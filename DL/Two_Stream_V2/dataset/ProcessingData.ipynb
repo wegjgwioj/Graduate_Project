{
 "cells": [
  {
   "cell_type": "markdown",
   "metadata": {},
   "source": [
    "# 一、视频分帧\n",
    "## 提取视频帧\n",
    "将视频分割为连续的图像帧，便于后续处理。"
   ]
  },
  {
   "cell_type": "code",
   "execution_count": 2,
   "metadata": {},
   "outputs": [
    {
     "name": "stdout",
     "output_type": "stream",
     "text": [
      "提取完成，共 714 帧\n"
     ]
    }
   ],
   "source": [
    "import cv2\n",
    "import os\n",
    "\n",
    "# 打开视频文件\n",
    "video_path = \"video.mp4\"\n",
    "cap = cv2.VideoCapture(video_path)\n",
    "\n",
    "# 创建保存帧的文件夹\n",
    "frames_folder = \"frames\"\n",
    "os.makedirs(frames_folder, exist_ok=True)\n",
    "\n",
    "# 逐帧提取\n",
    "frame_count = 0\n",
    "while cap.isOpened():\n",
    "    ret, frame = cap.read()\n",
    "    if not ret:\n",
    "        break\n",
    "    # 保存帧到frames文件夹\n",
    "    frame_path = os.path.join(frames_folder, f\"frame_{frame_count:04d}.png\")\n",
    "    cv2.imwrite(frame_path, frame)\n",
    "    frame_count += 1\n",
    "\n",
    "cap.release()\n",
    "print(f\"提取完成，共 {frame_count} 帧\")"
   ]
  },
  {
   "cell_type": "markdown",
   "metadata": {},
   "source": [
    "# 二、动态目标标注（二值掩膜）\n",
    "## 标注内容\n",
    "  标注内容：为每帧生成动态目标的二值掩膜（0为背景，1为动态目标）"
   ]
  },
  {
   "cell_type": "code",
   "execution_count": 4,
   "metadata": {},
   "outputs": [],
   "source": [
    "# LabelMe：手动标注动态目标轮廓，生成掩膜。\n",
    "import os\n",
    "import cv2\n",
    "import numpy as np\n",
    "import json\n",
    "from labelme import utils\n",
    "\n",
    "def json_to_mask(json_path, output_dir):\n",
    "    # 加载标注文件\n",
    "    with open(json_path, \"r\") as f:\n",
    "        data = json.load(f)\n",
    "    \n",
    "    # 解析图像尺寸\n",
    "    img_shape = (data[\"imageHeight\"], data[\"imageWidth\"])\n",
    "    \n",
    "    # 生成掩膜\n",
    "    mask = np.zeros(img_shape, dtype=np.uint8)\n",
    "    for shape in data[\"shapes\"]:\n",
    "        if shape[\"label\"] == \"dynamic_target\":  # 仅处理动态目标\n",
    "            points = shape[\"points\"]\n",
    "            points = np.array(points, dtype=np.int32)\n",
    "            cv2.fillPoly(mask, [points], 1)\n",
    "    \n",
    "    # 保存掩膜\n",
    "    mask_path = os.path.join(output_dir, os.path.basename(json_path).replace(\".json\", \"_mask.png\"))\n",
    "    cv2.imwrite(mask_path, mask * 255)  # 将掩膜保存为二值图像\n",
    "\n",
    "# 批量处理标注文件\n",
    "json_dir = \"annotations\"\n",
    "output_dir = \"masks\"\n",
    "os.makedirs(output_dir, exist_ok=True)\n",
    "for json_file in os.listdir(json_dir):\n",
    "    if json_file.endswith(\".json\"):\n",
    "        json_path = os.path.join(json_dir, json_file)\n",
    "        json_to_mask(json_path, output_dir)"
   ]
  },
  {
   "cell_type": "markdown",
   "metadata": {},
   "source": []
  },
  {
   "cell_type": "markdown",
   "metadata": {},
   "source": []
  }
 ],
 "metadata": {
  "kernelspec": {
   "display_name": "Graduate",
   "language": "python",
   "name": "python3"
  },
  "language_info": {
   "codemirror_mode": {
    "name": "ipython",
    "version": 3
   },
   "file_extension": ".py",
   "mimetype": "text/x-python",
   "name": "python",
   "nbconvert_exporter": "python",
   "pygments_lexer": "ipython3",
   "version": "3.9.21"
  }
 },
 "nbformat": 4,
 "nbformat_minor": 2
}
