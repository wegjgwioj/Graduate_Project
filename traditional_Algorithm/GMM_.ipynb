{
 "cells": [
  {
   "cell_type": "markdown",
   "metadata": {},
   "source": [
    "### 实现GMM算法：视频流背景建模和前景检测\n",
    "#### 核心思想\n",
    "GMM假设每个像素的时域变化服从多个高斯分布的混合，通过统计建模区分背景与前景。\n",
    "- 模型构建：每个像素由3-5个高斯分布描述，权重、均值和方差动态更新。\n",
    "- 前景检测：若像素值不在前B个高权重高斯分布的置信区间内，则判定为前景。\n",
    "- 优化手段：结合形态学操作（如中值滤波、膨胀）和三通道联合判断，提升轮廓完整性。\n",
    "#### 技术分类\n",
    "- 背景差分法：基于统计建模的改进方法，适用于动态背景（如树枝摇晃），但对突发变化的适应性有限。"
   ]
  },
  {
   "cell_type": "code",
   "execution_count": 2,
   "metadata": {},
   "outputs": [],
   "source": [
    "import cv2\n",
    "import numpy as np\n",
    "cv2.namedWindow('Original Video', cv2.WINDOW_NORMAL)\n",
    "cv2.resizeWindow('Original Video', 800, 600)  # 设置窗口大小为 800x600\n",
    "cv2.namedWindow('Foreground Mask', cv2.WINDOW_NORMAL)\n",
    "cv2.resizeWindow('Foreground Mask', 800, 600)  # 设置窗口大小为 800x600\n",
    "class CustomGMM:\n",
    "    def __init__(self, alpha=0.01, threshold=20):\n",
    "        self.alpha = alpha  # 学习率\n",
    "        self.threshold = threshold  # 阈值\n",
    "        self.bg_model = None  # 背景模型\n",
    "\n",
    "    def apply(self, frame):\n",
    "        if self.bg_model is None:\n",
    "            self.bg_model = frame.astype(np.float32)\n",
    "            return np.zeros(frame.shape[:2], dtype=np.uint8)\n",
    "\n",
    "        # 更新背景模型\n",
    "        self.bg_model = (1 - self.alpha) * self.bg_model + self.alpha * frame.astype(np.float32)\n",
    "\n",
    "        # 计算前景掩码\n",
    "        diff = cv2.absdiff(frame.astype(np.float32), self.bg_model)\n",
    "        fg_mask = cv2.cvtColor(diff, cv2.COLOR_BGR2GRAY)\n",
    "        _, fg_mask = cv2.threshold(fg_mask, self.threshold, 255, cv2.THRESH_BINARY)\n",
    "\n",
    "        return fg_mask\n",
    "\n",
    "# 使用自定义 GMM\n",
    "cap = cv2.VideoCapture('video.mp4')\n",
    "custom_gmm = CustomGMM(alpha=0.04, threshold=145)\n",
    "\n",
    "while cap.isOpened():\n",
    "    ret, frame = cap.read()\n",
    "    if not ret:\n",
    "        break\n",
    "    fg_mask = custom_gmm.apply(frame)\n",
    "    fg_mask = cv2.medianBlur(fg_mask, 5)\n",
    "    fg_mask = cv2.dilate(fg_mask, None, iterations=2)\n",
    "    cv2.imshow('Original Video', frame)\n",
    "    cv2.imshow('Foreground Mask', fg_mask)\n",
    "    if cv2.waitKey(30) & 0xFF == ord('q'):\n",
    "        break\n",
    "\n",
    "cap.release()\n",
    "cv2.destroyAllWindows()"
   ]
  },
  {
   "cell_type": "markdown",
   "metadata": {},
   "source": [
    "### 讲讲mog2\n",
    "MOG2（Mixture of Gaussians 2）是一种基于高斯混合模型（Gaussian Mixture Model, GMM）的背景减除算法，广泛应用于计算机视觉领域，尤其在视频监控和目标检测中表现突出。\n",
    "\n",
    "### 基本原理\n",
    "MOG2算法是MOG算法的改进版本，由Z. Zivkovic在2004年和2006年的两篇论文中提出。它通过为每个像素点建模多个高斯分布来描述背景和前景的概率分布。算法的核心步骤包括：\n",
    "1. **初始化**：为每个像素点初始化一个或多个高斯分布，通常初始时设定一个分布作为背景。\n",
    "2. **模型学习**：使用期望最大化（Expectation-Maximization, EM）算法更新高斯分布的参数（均值、方差和权重），以适应场景的变化。\n",
    "3. **前景检测**：计算每个像素属于背景的概率，概率较低的像素被分类为前景。\n",
    "4. **背景更新**：对于被分类为背景的像素，更新其高斯分布参数以纳入新的观测值。\n",
    "\n",
    "### 特点\n",
    "- **自适应性**：MOG2能够自动选择每个像素的高斯分布数量，适应复杂的背景和光照变化。\n",
    "- **影子检测**：算法可以选择是否检测影子。如果启用影子检测，影子区域会被标记为灰色，但会降低处理速度。\n",
    "- **实时性**：通过优化算法，MOG2在实时视频处理中表现出色。\n",
    "\n",
    "### 应用\n",
    "MOG2在视频监控系统中被广泛应用，用于实时检测和跟踪移动目标。例如，通过OpenCV库中的`cv2.createBackgroundSubtractorMOG2`函数，可以快速初始化和应用MOG2模型。\n",
    "\n",
    "### 参数设置\n",
    "在实际应用中，MOG2的性能受参数影响较大，常见的参数包括：\n",
    "- **history**：用于背景建模的帧数。\n",
    "- **varThreshold**：方差阈值，用于前景分割。\n",
    "- **detectShadows**：是否检测影子。\n",
    "\n",
    "通过调整这些参数，MOG2可以在不同的场景中实现更好的性能。"
   ]
  }
 ],
 "metadata": {
  "kernelspec": {
   "display_name": "Graduate",
   "language": "python",
   "name": "python3"
  },
  "language_info": {
   "codemirror_mode": {
    "name": "ipython",
    "version": 3
   },
   "file_extension": ".py",
   "mimetype": "text/x-python",
   "name": "python",
   "nbconvert_exporter": "python",
   "pygments_lexer": "ipython3",
   "version": "3.9.21"
  }
 },
 "nbformat": 4,
 "nbformat_minor": 4
}
