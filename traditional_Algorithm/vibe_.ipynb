{
 "cells": [
  {
   "cell_type": "markdown",
   "metadata": {},
   "source": [
    "### 实现vibe算法：视频流实时场景抑制+动态目标检测"
   ]
  },
  {
   "cell_type": "code",
   "execution_count": 1,
   "metadata": {},
   "outputs": [],
   "source": [
    "import cv2  \n",
    "import numpy as np  \n",
    "  \n",
    "class VIBE:  \n",
    "    def __init__(self, num_samples=20, min_match=2, radius=20, subsample_factor=16):  \n",
    "        self.num_samples = num_samples  \n",
    "        self.min_match = min_match  \n",
    "        self.radius = radius  \n",
    "        self.subsample_factor = subsample_factor  \n",
    "        self.background_model = None  \n",
    "  \n",
    "    def initialize(self, first_frame):  \n",
    "        height, width = first_frame.shape[:2]  \n",
    "        self.background_model = np.zeros((height, width, self.num_samples), dtype=np.uint8)  \n",
    "        for i in range(self.num_samples):  \n",
    "            self.background_model[:, :, i] = first_frame  \n",
    "  \n",
    "    def update(self, current_frame):  \n",
    "        height, width = current_frame.shape[:2]  \n",
    "        foreground = np.zeros((height, width), dtype=np.uint8)  \n",
    "        for y in range(height):  \n",
    "            for x in range(width):  \n",
    "                pixel = current_frame[y, x]  \n",
    "                matches = 0  \n",
    "                for i in range(self.num_samples):  \n",
    "                    if np.abs(int(pixel) - int(self.background_model[y, x, i])) < self.radius:  \n",
    "                        matches += 1  \n",
    "                if matches < self.min_match:  \n",
    "                    foreground[y, x] = 255  \n",
    "                else:  \n",
    "                    if np.random.randint(0, self.subsample_factor) == 0:  \n",
    "                        idx = np.random.randint(0, self.num_samples)  \n",
    "                        self.background_model[y, x, idx] = pixel  \n",
    "                        nx, ny = x + np.random.randint(-1, 2), y + np.random.randint(-1, 2)  \n",
    "                        if 0 <= nx < width and 0 <= ny < height:  \n",
    "                            self.background_model[ny, nx, idx] = pixel  \n",
    "        return foreground  \n",
    "  \n",
    "# 使用VIBE算法进行前景检测  \n",
    "cap = cv2.VideoCapture('c:\\\\Users\\\\31431\\\\Downloads\\\\Fish Swimming Over Skip.mp4')  # 替换为你的视频文件路径  \n",
    "vibe = VIBE()  \n",
    "  \n",
    "ret, frame = cap.read()  \n",
    "if ret:  \n",
    "    gray_frame = cv2.cvtColor(frame, cv2.COLOR_BGR2GRAY)  \n",
    "    vibe.initialize(gray_frame)  \n",
    "  \n",
    "while cap.isOpened():  \n",
    "    ret, frame = cap.read()  \n",
    "    if not ret:  \n",
    "        break  \n",
    "    gray_frame = cv2.cvtColor(frame, cv2.COLOR_BGR2GRAY)  \n",
    "    foreground = vibe.update(gray_frame)  \n",
    "    cv2.imshow('Foreground', foreground)  \n",
    "    if cv2.waitKey(1) & 0xFF == ord('q'):  \n",
    "        break  \n",
    "  \n",
    "cap.release()  \n",
    "cv2.destroyAllWindows()  "
   ]
  }
 ],
 "metadata": {
  "kernelspec": {
   "display_name": "Graduate",
   "language": "python",
   "name": "python3"
  },
  "language_info": {
   "codemirror_mode": {
    "name": "ipython",
    "version": 3
   },
   "file_extension": ".py",
   "mimetype": "text/x-python",
   "name": "python",
   "nbconvert_exporter": "python",
   "pygments_lexer": "ipython3",
   "version": "3.9.21"
  }
 },
 "nbformat": 4,
 "nbformat_minor": 2
}
